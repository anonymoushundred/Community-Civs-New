{
  "nbformat": 4,
  "nbformat_minor": 0,
  "metadata": {
    "colab": {
      "provenance": [],
      "authorship_tag": "ABX9TyPNLLPNUKu0YgZ970RJKFEd",
      "include_colab_link": true
    },
    "kernelspec": {
      "name": "python3",
      "display_name": "Python 3"
    },
    "language_info": {
      "name": "python"
    }
  },
  "cells": [
    {
      "cell_type": "markdown",
      "metadata": {
        "id": "view-in-github",
        "colab_type": "text"
      },
      "source": [
        "<a href=\"https://colab.research.google.com/github/anonymoushundred/Community-Civs-New/blob/master/Unciv.ipynb\" target=\"_parent\"><img src=\"https://colab.research.google.com/assets/colab-badge.svg\" alt=\"Open In Colab\"/></a>"
      ]
    },
    {
      "cell_type": "code",
      "source": [
        "\n",
        " {\n",
        "  \"name\": \"San Andor\",\n",
        "  \"leaderName\": \"Commander Andrew\",\n",
        "  \"adjective\": [\"Andoran\"],\n",
        "  \"preferredVictoryType\": \"Domination\",\n",
        "\n",
        "  \"startIntroPart1\": \"\",\n",
        "  \"startIntroPart2\": \"\",\n",
        "  \"declaringWar\": \"My land is too small and the population is increasing,the time have come.\",\n",
        "  \"attacked\": \"This will be the last struggle for me and you!\",\n",
        "  \"defeated\": \"I can't lost!!!\",\n",
        "  \"introduction\": \"Hello my friend its look like you're looking for other civilization?well you found one!\",\n",
        "  \"neutralHello\": \"Hello my friend.\",\n",
        "  \"hateHello\": \"Hello my foe.\",\n",
        "  \"tradeRequest\": \"After a while of consideration i have come up with this deal.\",\n",
        "  \"outerColor\": [256,256,256],\n",
        "  \"innerColor\": [198,20,25],\n",
        "  \"uniqueName\": \"Last ditch\",\n",
        "  \"uniques\": [\"[+40]% combat bonus for [Non-City] units fighting in [Foreign Land]\",\"[-15]% combat bonus for [Non-City] units fighting in [Friendly Land]\",\"cannot gain settlers\"],\n",
        "  \"cities\": [\"San Andor\"],\n",
        " },"
      ],
      "metadata": {
        "id": "OKv7sY6wXZjH"
      },
      "execution_count": null,
      "outputs": []
    },
    {
      "cell_type": "code",
      "source": [
        "\"name\": \"Light Chopper\",\n",
        "    \"uniqueTo\": \"San Andor\",\n",
        "    \"replaces\": \"Helicopter Gunship\",\n",
        "  \"unitType\": \"Helicopter\",\n",
        "  \"movement\": 7,\n",
        "  \"strength\": 50,\n",
        "  \"cost\": 450,\n",
        "  \"requiredTech\": \"Combined Arms\",\n",
        "  \"uniques\": [\"[+50]% Strength <vs [Gunpowder] units>\",\"All tiles costs 1\",\n",
        "   \"No defensive terrain bonus\",\"Can move after attacking\",\n",
        "   \"Consumes [1] [Aluminum]\"],\n",
        "  \"attackSound\": \"shot\"\n",
        " },"
      ],
      "metadata": {
        "id": "5W1ydYLUkUeT"
      },
      "execution_count": null,
      "outputs": []
    },
    {
      "cell_type": "code",
      "source": [
        "{\n",
        " \"name\": \"Enlistment\",\n",
        "        \"replaces\": \"Courthouse\",\n",
        " \"uniqueTo\": \"San Andor\",\n",
        " \"maintenance\": 0,\n",
        "        \"hurryCostModifier\": 50,\n",
        "        \"uniques\": [\"[-1 population][in this city]\",[+4] Unit Supply,],\n",
        "        \"requiredTech\": \"Military Science\"\n",
        "},"
      ],
      "metadata": {
        "id": "6mYt-OtknVCe"
      },
      "execution_count": null,
      "outputs": []
    }
  ]
}